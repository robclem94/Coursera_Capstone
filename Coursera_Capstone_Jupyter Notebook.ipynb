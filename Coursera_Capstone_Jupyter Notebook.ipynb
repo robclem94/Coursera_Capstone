{
    "cells": [
        {
            "cell_type": "markdown",
            "metadata": {},
            "source": "# Hello Capstone Project Course!"
        },
        {
            "cell_type": "markdown",
            "metadata": {},
            "source": "Welcome to my project. This notebook will be the main output of my capstone project work.  "
        },
        {
            "cell_type": "markdown",
            "metadata": {},
            "source": "## Week 1:"
        },
        {
            "cell_type": "markdown",
            "metadata": {},
            "source": "#### A description of the problem and a discussion of the background. (15 marks)"
        },
        {
            "cell_type": "markdown",
            "metadata": {},
            "source": "Berlin has a reputation of being a more bohemian, younng and \"hippster\" than much of the rest of Germany. Another widely held perception is that there are more young and \"hippster\" people will follow a vegan diet. To test these two assumptions I would like to compare the amount vegan restaurants per capita in Berlin to that in Munich which in contrast is known to be more traditional espcially it's hearty and meaty traditional German cuisine."
        },
        {
            "cell_type": "markdown",
            "metadata": {},
            "source": "#### A description of the data and how it will be used to solve the problem. (15 marks)"
        },
        {
            "cell_type": "markdown",
            "metadata": {},
            "source": "To work this I will primarly be sourcing location based data through the Foursquare API. There are a couple of types of data we can to attepte to answer the question above. \n\n1) As mentioned above I would like to establish frequancy of types of restaurants (vegan and traditional) in both cities. This will alow calcualtion of restaurants per capita in both cities. \n\n2) Another intersting data point provided through the Foursquare API is person reviews. By comparing the reviews and and ratings of both vegan and tradtional german restaurants in both cities we may be able to establish a degree of which cuisine is more popular and potentially a idea of the residents of Berlin and Mucnich.    "
        },
        {
            "cell_type": "markdown",
            "metadata": {},
            "source": "## Week 2"
        },
        {
            "cell_type": "markdown",
            "metadata": {},
            "source": "1) A link to your Notebook on your Github repository, showing your code. (15 marks)"
        },
        {
            "cell_type": "markdown",
            "metadata": {},
            "source": "2) A full report consisting of all of the following components (15 marks):\n\n- Introduction where you discuss the business problem and who would be interested in this project.\n- Data where you describe the data that will be used to solve the problem and the source of the data.\n- Methodology section which represents the main component of the report where you discuss and describe any exploratory data analysis that you did, any inferential statistical testing that you performed, if any, and what machine learnings were used and why.\n- Results section where you discuss the results.\n- Discussion section where you discuss any observations you noted and any recommendations you can make based on the results.\n- Conclusion section where you conclude the report"
        },
        {
            "cell_type": "markdown",
            "metadata": {},
            "source": "3. Your choice of a presentation or blogpost. (10 marks)"
        },
        {
            "cell_type": "code",
            "execution_count": null,
            "metadata": {},
            "outputs": [],
            "source": ""
        }
    ],
    "metadata": {
        "kernelspec": {
            "display_name": "Python 3.7",
            "language": "python",
            "name": "python3"
        },
        "language_info": {
            "codemirror_mode": {
                "name": "ipython",
                "version": 3
            },
            "file_extension": ".py",
            "mimetype": "text/x-python",
            "name": "python",
            "nbconvert_exporter": "python",
            "pygments_lexer": "ipython3",
            "version": "3.7.10"
        }
    },
    "nbformat": 4,
    "nbformat_minor": 1
}